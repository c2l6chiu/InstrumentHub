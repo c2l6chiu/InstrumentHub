{
 "cells": [
  {
   "cell_type": "code",
   "execution_count": null,
   "metadata": {},
   "outputs": [],
   "source": [
    "from ApplicationKernel import AppServer\n",
    "import time\n",
    "import matplotlib.pyplot as plt\n",
    "\n",
    "app = AppServer(\"app_test\")\n",
    "nanonis = app.addInstrument('inst_nanonis')\n",
    "nanonisUDP = app.addInstrument('inst_nanonisUDP')\n",
    "\n",
    "t=[]\n",
    "for i in range(100):\n",
    "    t.append(nanonisUDP.query(\"get_time()\"))\n",
    "\n",
    "plt.ion()\n",
    "fig = plt.figure()\n",
    "ax = fig.add_subplot()\n",
    "ax.plot(t, 'r-')\n",
    "del app"
   ]
  }
 ],
 "metadata": {
  "kernelspec": {
   "display_name": "VFstm",
   "language": "python",
   "name": "python3"
  },
  "language_info": {
   "codemirror_mode": {
    "name": "ipython",
    "version": 3
   },
   "file_extension": ".py",
   "mimetype": "text/x-python",
   "name": "python",
   "nbconvert_exporter": "python",
   "pygments_lexer": "ipython3",
   "version": "3.11.5"
  }
 },
 "nbformat": 4,
 "nbformat_minor": 2
}
