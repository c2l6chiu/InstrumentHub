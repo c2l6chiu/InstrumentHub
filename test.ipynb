{
 "cells": [
  {
   "cell_type": "code",
   "execution_count": 105,
   "metadata": {},
   "outputs": [],
   "source": [
    "import socket\n",
    "import time\n",
    "address = '127.0.0.1'\n",
    "port = 51795\n",
    "s = socket.socket(socket.AF_INET, socket.SOCK_DGRAM)\n",
    "s.bind( (address , port) )\n",
    "s.settimeout(0.001)\n",
    "# s.close()"
   ]
  },
  {
   "cell_type": "code",
   "execution_count": 102,
   "metadata": {},
   "outputs": [
    {
     "name": "stdout",
     "output_type": "stream",
     "text": [
      "0.00497746467590332\n"
     ]
    }
   ],
   "source": [
    "t = time.time()\n",
    "while True:\n",
    "    try:\n",
    "        data , addr = s.recvfrom(65535)\n",
    "    except:\n",
    "        break\n",
    "t2 = time.time()\n",
    "print(t2-t)\n"
   ]
  },
  {
   "cell_type": "code",
   "execution_count": 103,
   "metadata": {},
   "outputs": [
    {
     "name": "stdout",
     "output_type": "stream",
     "text": [
      "b'2858565970,8.434905E-12,-4.447738E-5,-6.673385E-6,-3.694653E-2,1.250427E-4,6.155396E-4,5.456543E-5,-5.994059E-4,0.000000E+0,0.000000E+0,0.000000E+0,1.000000E-1,0.000000E+0,0.000000E+0,1.200000E-7,5.456543E-5,-1.582654E+2,0.000000E+0,0.000000E+0,0.000000E+0,-7.648147E-3,-6.635647E-4,0.000000E+0\\r\\n'\n"
     ]
    }
   ],
   "source": [
    "data , addr = s.recvfrom(65535)\n",
    "print(data)"
   ]
  },
  {
   "cell_type": "code",
   "execution_count": null,
   "metadata": {},
   "outputs": [],
   "source": [
    "s.settimeout(1)\n",
    "counter = 1\n",
    "for i in range(10):\n",
    "    data , addr = s.recvfrom(65535)\n",
    "    print(data)\n",
    "    counter+=1\n",
    "    print(counter)"
   ]
  }
 ],
 "metadata": {
  "kernelspec": {
   "display_name": "VFstm",
   "language": "python",
   "name": "python3"
  },
  "language_info": {
   "codemirror_mode": {
    "name": "ipython",
    "version": 3
   },
   "file_extension": ".py",
   "mimetype": "text/x-python",
   "name": "python",
   "nbconvert_exporter": "python",
   "pygments_lexer": "ipython3",
   "version": "3.11.5"
  }
 },
 "nbformat": 4,
 "nbformat_minor": 2
}
